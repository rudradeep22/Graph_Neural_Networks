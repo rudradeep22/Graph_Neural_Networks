{
  "nbformat": 4,
  "nbformat_minor": 0,
  "metadata": {
    "colab": {
      "provenance": [],
      "gpuType": "T4",
      "authorship_tag": "ABX9TyNYq5KXLbuAi8LCsJsaQ0wm",
      "include_colab_link": true
    },
    "kernelspec": {
      "name": "python3",
      "display_name": "Python 3"
    },
    "language_info": {
      "name": "python"
    },
    "accelerator": "GPU"
  },
  "cells": [
    {
      "cell_type": "markdown",
      "metadata": {
        "id": "view-in-github",
        "colab_type": "text"
      },
      "source": [
        "<a href=\"https://colab.research.google.com/github/rudradeep22/Graph_Neural_Networks/blob/main/GNN_knowledge_graphs.ipynb\" target=\"_parent\"><img src=\"https://colab.research.google.com/assets/colab-badge.svg\" alt=\"Open In Colab\"/></a>"
      ]
    },
    {
      "cell_type": "code",
      "execution_count": 1,
      "metadata": {
        "colab": {
          "base_uri": "https://localhost:8080/",
          "height": 0
        },
        "id": "SY_Tn_JarOz7",
        "outputId": "decaaedd-5606-4ee9-e06c-a313410b6b2f"
      },
      "outputs": [
        {
          "output_type": "stream",
          "name": "stdout",
          "text": [
            "12.1\n"
          ]
        }
      ],
      "source": [
        "# Check cuda version\n",
        "!python -c \"import torch; print(torch.version.cuda)\""
      ]
    },
    {
      "cell_type": "code",
      "source": [
        "import os\n",
        "import torch\n",
        "os.environ['TORCH'] = torch.__version__\n",
        "print(torch.__version__)\n",
        "\n",
        "!pip install -q torch-scatter -f https://data.pyg.org/whl/torch-${TORCH}.html\n",
        "!pip install -q torch-sparse -f https://data.pyg.org/whl/torch-${TORCH}.html\n",
        "!pip install -q git+https://github.com/pyg-team/pytorch_geometric.git"
      ],
      "metadata": {
        "colab": {
          "base_uri": "https://localhost:8080/",
          "height": 0
        },
        "id": "RGpCoN2mrloE",
        "outputId": "22280616-36d3-4522-dc65-33306e1d53bf"
      },
      "execution_count": 3,
      "outputs": [
        {
          "output_type": "stream",
          "name": "stdout",
          "text": [
            "2.1.0+cu121\n",
            "\u001b[2K     \u001b[90m━━━━━━━━━━━━━━━━━━━━━━━━━━━━━━━━━━━━━━━━\u001b[0m \u001b[32m10.8/10.8 MB\u001b[0m \u001b[31m88.2 MB/s\u001b[0m eta \u001b[36m0:00:00\u001b[0m\n",
            "\u001b[2K     \u001b[90m━━━━━━━━━━━━━━━━━━━━━━━━━━━━━━━━━━━━━━━━\u001b[0m \u001b[32m5.0/5.0 MB\u001b[0m \u001b[31m64.1 MB/s\u001b[0m eta \u001b[36m0:00:00\u001b[0m\n",
            "\u001b[?25h  Installing build dependencies ... \u001b[?25l\u001b[?25hdone\n",
            "  Getting requirements to build wheel ... \u001b[?25l\u001b[?25hdone\n",
            "  Preparing metadata (pyproject.toml) ... \u001b[?25l\u001b[?25hdone\n",
            "  Building wheel for torch_geometric (pyproject.toml) ... \u001b[?25l\u001b[?25hdone\n"
          ]
        }
      ]
    },
    {
      "cell_type": "code",
      "source": [
        "# Using cora dataset\n",
        "# https://graphsandnetworks.com/the-cora-dataset/\n",
        "\n",
        "from torch_geometric.datasets import Planetoid\n",
        "from torch_geometric.transforms import NormalizeFeatures"
      ],
      "metadata": {
        "id": "vfk8cRjqsWKq"
      },
      "execution_count": 4,
      "outputs": []
    },
    {
      "cell_type": "code",
      "source": [
        "dataset = Planetoid(root='data/Planetoid', name='Cora', transform=NormalizeFeatures())"
      ],
      "metadata": {
        "colab": {
          "base_uri": "https://localhost:8080/",
          "height": 0
        },
        "id": "Fq7zfOb8upIO",
        "outputId": "3b44f0af-078b-437e-ab20-de98cb4fce27"
      },
      "execution_count": 5,
      "outputs": [
        {
          "output_type": "stream",
          "name": "stderr",
          "text": [
            "Downloading https://github.com/kimiyoung/planetoid/raw/master/data/ind.cora.x\n",
            "Downloading https://github.com/kimiyoung/planetoid/raw/master/data/ind.cora.tx\n",
            "Downloading https://github.com/kimiyoung/planetoid/raw/master/data/ind.cora.allx\n",
            "Downloading https://github.com/kimiyoung/planetoid/raw/master/data/ind.cora.y\n",
            "Downloading https://github.com/kimiyoung/planetoid/raw/master/data/ind.cora.ty\n",
            "Downloading https://github.com/kimiyoung/planetoid/raw/master/data/ind.cora.ally\n",
            "Downloading https://github.com/kimiyoung/planetoid/raw/master/data/ind.cora.graph\n",
            "Downloading https://github.com/kimiyoung/planetoid/raw/master/data/ind.cora.test.index\n",
            "Processing...\n",
            "Done!\n"
          ]
        }
      ]
    },
    {
      "cell_type": "code",
      "source": [
        "# Info about our dataset\n",
        "\n",
        "print(f'No. of graphs: {len(dataset)}')\n",
        "print(f'No. of features: {dataset.num_features}')\n",
        "print(f'No. of classes: {dataset.num_classes}')\n",
        "data = dataset[0] # only one graph\n",
        "\n",
        "print(data)\n",
        "print(f'Number of nodes: {data.num_nodes}')\n",
        "print(f'Number of edges: {data.num_edges}')\n",
        "print(f'Number of training nodes: {data.train_mask.sum()}')\n",
        "print(f'Training node label rate: {int(data.train_mask.sum()) / data.num_nodes}')\n",
        "print(f'Is undirected?  {data.is_undirected()}')"
      ],
      "metadata": {
        "colab": {
          "base_uri": "https://localhost:8080/"
        },
        "id": "Z9e84FW9u0fc",
        "outputId": "ad5d3dff-5b5d-44bd-f2dc-4c645b16e67d"
      },
      "execution_count": 7,
      "outputs": [
        {
          "output_type": "stream",
          "name": "stdout",
          "text": [
            "No. of graphs: 1\n",
            "No. of features: 1433\n",
            "No. of classes: 7\n",
            "Data(x=[2708, 1433], edge_index=[2, 10556], y=[2708], train_mask=[2708], val_mask=[2708], test_mask=[2708])\n",
            "Number of nodes: 2708\n",
            "Number of edges: 10556\n",
            "Number of training nodes: 140\n",
            "Training node label rate: 0.051698670605613\n",
            "Is undirected?  True\n"
          ]
        }
      ]
    },
    {
      "cell_type": "code",
      "source": [
        "# Labels are converted to numbers\n",
        "\n",
        "data.y"
      ],
      "metadata": {
        "colab": {
          "base_uri": "https://localhost:8080/"
        },
        "id": "kaWU3v42wCGR",
        "outputId": "ea4afd0a-d488-4c4f-e0dd-a076b4d94b8a"
      },
      "execution_count": 8,
      "outputs": [
        {
          "output_type": "execute_result",
          "data": {
            "text/plain": [
              "tensor([3, 4, 4,  ..., 3, 3, 3])"
            ]
          },
          "metadata": {},
          "execution_count": 8
        }
      ]
    },
    {
      "cell_type": "code",
      "source": [
        "# Adjacency network\n",
        "data.edge_index.T"
      ],
      "metadata": {
        "colab": {
          "base_uri": "https://localhost:8080/"
        },
        "id": "hDnvDu6UwqBS",
        "outputId": "8144bb2c-825d-472e-b455-01a079b1a5f7"
      },
      "execution_count": 9,
      "outputs": [
        {
          "output_type": "execute_result",
          "data": {
            "text/plain": [
              "tensor([[ 633,    0],\n",
              "        [1862,    0],\n",
              "        [2582,    0],\n",
              "        ...,\n",
              "        [ 598, 2707],\n",
              "        [1473, 2707],\n",
              "        [2706, 2707]])"
            ]
          },
          "metadata": {},
          "execution_count": 9
        }
      ]
    },
    {
      "cell_type": "code",
      "source": [
        "import torch\n",
        "from torch.nn import Linear\n",
        "from torch_geometric.nn import GCNConv\n",
        "import torch.nn.functional as F"
      ],
      "metadata": {
        "id": "99Ai6bJhw1sK"
      },
      "execution_count": 11,
      "outputs": []
    },
    {
      "cell_type": "code",
      "source": [
        "'''\n",
        "training = self.training in dropout ensure that dropout occurs only during\n",
        "training and not during predictions\n",
        "'''\n",
        "class GCN(torch.nn.Module):\n",
        "  def __init__ (self, hidden_channels):\n",
        "    super(GCN, self).__init__()\n",
        "    torch.manual_seed(42)\n",
        "\n",
        "    self.conv1 = GCNConv(dataset.num_features, hidden_channels)\n",
        "    self.conv2 = GCNConv(hidden_channels, hidden_channels)\n",
        "    self.linear = Linear(hidden_channels, dataset.num_classes)\n",
        "\n",
        "  def forward(self, x, edge_index):\n",
        "    x = self.conv1(x, edge_index)\n",
        "    x = x.relu()\n",
        "    x = F.dropout(x, p=0.5, training=self.training)\n",
        "\n",
        "    x = self.conv2(x, edge_index)\n",
        "    x = x.relu()\n",
        "    x = F.dropout(x, p=0.5, training=self.training)\n",
        "\n",
        "    output = F.softmax(self.linear(x), dim=1)\n",
        "    return output"
      ],
      "metadata": {
        "id": "e_THpRqnxKli"
      },
      "execution_count": 34,
      "outputs": []
    },
    {
      "cell_type": "code",
      "source": [
        "model = GCN( hidden_channels=16 )\n",
        "model"
      ],
      "metadata": {
        "colab": {
          "base_uri": "https://localhost:8080/"
        },
        "id": "g6v3cfPvzHNx",
        "outputId": "dd27c4e6-521a-4498-dbd6-0cdcf14e9467"
      },
      "execution_count": 35,
      "outputs": [
        {
          "output_type": "execute_result",
          "data": {
            "text/plain": [
              "GCN(\n",
              "  (conv1): GCNConv(1433, 16)\n",
              "  (conv2): GCNConv(16, 16)\n",
              "  (linear): Linear(in_features=16, out_features=7, bias=True)\n",
              ")"
            ]
          },
          "metadata": {},
          "execution_count": 35
        }
      ]
    },
    {
      "cell_type": "code",
      "source": [
        "# Enable GPU\n",
        "device = torch.device('cuda' if torch.cuda.is_available else 'cpu')\n",
        "print(device)\n",
        "model.to(device)\n",
        "data.to(device)"
      ],
      "metadata": {
        "colab": {
          "base_uri": "https://localhost:8080/"
        },
        "id": "3NAtM4TdzRZV",
        "outputId": "7818eaab-88d6-4ad3-bbc4-317970f1ab0a"
      },
      "execution_count": 36,
      "outputs": [
        {
          "output_type": "stream",
          "name": "stdout",
          "text": [
            "cuda\n"
          ]
        },
        {
          "output_type": "execute_result",
          "data": {
            "text/plain": [
              "Data(x=[2708, 1433], edge_index=[2, 10556], y=[2708], train_mask=[2708], val_mask=[2708], test_mask=[2708])"
            ]
          },
          "metadata": {},
          "execution_count": 36
        }
      ]
    },
    {
      "cell_type": "code",
      "source": [
        "learning_rate = 0.01\n",
        "decay = 5e-4\n",
        "optimizer = torch.optim.Adam(model.parameters(), lr=learning_rate,\n",
        "                             weight_decay=decay)\n",
        "criterion = torch.nn.CrossEntropyLoss()\n",
        "num_epoch = 1000"
      ],
      "metadata": {
        "id": "uL4EaWXlztI2"
      },
      "execution_count": 37,
      "outputs": []
    },
    {
      "cell_type": "code",
      "source": [
        "def train():\n",
        "  model.train()\n",
        "\n",
        "  optimizer.zero_grad()\n",
        "  output = model(data.x, data.edge_index)\n",
        "  loss = criterion(output[data.train_mask], data.y[data.train_mask])\n",
        "  loss.backward()\n",
        "  optimizer.step()\n",
        "  return loss\n",
        "# use train mask while calculating loss, but use all data as input into model"
      ],
      "metadata": {
        "id": "tnIOCnzd0DcY"
      },
      "execution_count": 38,
      "outputs": []
    },
    {
      "cell_type": "code",
      "source": [
        "def test():\n",
        "  model.eval()\n",
        "\n",
        "  output = model(data.x, data.edge_index)\n",
        "  prediction = output.argmax(dim=1)\n",
        "  correct = prediction[data.test_mask] == data.y[data.test_mask]\n",
        "  acc = int(correct.sum()) / int(data.test_mask.sum())\n",
        "  return acc"
      ],
      "metadata": {
        "id": "9pxO7wSB1EUr"
      },
      "execution_count": 39,
      "outputs": []
    },
    {
      "cell_type": "code",
      "source": [
        "losses = []\n",
        "accuracies = []\n",
        "for epoch in range(0, num_epoch):\n",
        "  loss = train()\n",
        "  losses.append(loss)\n",
        "  acc = test()\n",
        "  accuracies.append(acc)\n",
        "  if epoch % 100 == 0:\n",
        "    print(f'Epoch: {epoch}, Loss: {loss:.4f}, Accuracy: {acc:.4f}')"
      ],
      "metadata": {
        "colab": {
          "base_uri": "https://localhost:8080/"
        },
        "id": "NS5YOdKD1m9j",
        "outputId": "21c4971f-357a-42e7-e084-a3283b7d09c7"
      },
      "execution_count": 40,
      "outputs": [
        {
          "output_type": "stream",
          "name": "stdout",
          "text": [
            "Epoch: 0, Loss: 1.9461, Accuracy: 0.1030\n",
            "Epoch: 100, Loss: 1.7376, Accuracy: 0.2580\n",
            "Epoch: 200, Loss: 1.5091, Accuracy: 0.4860\n",
            "Epoch: 300, Loss: 1.4761, Accuracy: 0.6290\n",
            "Epoch: 400, Loss: 1.4391, Accuracy: 0.6610\n",
            "Epoch: 500, Loss: 1.3845, Accuracy: 0.6760\n",
            "Epoch: 600, Loss: 1.3566, Accuracy: 0.6850\n",
            "Epoch: 700, Loss: 1.3698, Accuracy: 0.7000\n",
            "Epoch: 800, Loss: 1.3569, Accuracy: 0.7060\n",
            "Epoch: 900, Loss: 1.3662, Accuracy: 0.7030\n"
          ]
        }
      ]
    },
    {
      "cell_type": "code",
      "source": [
        "import matplotlib.pyplot as plt\n",
        "%matplotlib inline"
      ],
      "metadata": {
        "id": "12x6xx-H2USC"
      },
      "execution_count": 41,
      "outputs": []
    },
    {
      "cell_type": "code",
      "source": [
        "loss_cpu = [loss.cpu().detach().numpy() for loss in losses]\n",
        "epochs = [i*100 for i in range(0, num_epoch)]\n",
        "plt.plot(epochs, loss_cpu)\n",
        "plt.plot(epochs, accuracies)"
      ],
      "metadata": {
        "colab": {
          "base_uri": "https://localhost:8080/",
          "height": 447
        },
        "id": "e9WL0Qft3Md3",
        "outputId": "6a3cfb64-5d8c-4b85-ecd9-180e563f78bb"
      },
      "execution_count": 46,
      "outputs": [
        {
          "output_type": "execute_result",
          "data": {
            "text/plain": [
              "[<matplotlib.lines.Line2D at 0x7b1fd6502d70>]"
            ]
          },
          "metadata": {},
          "execution_count": 46
        },
        {
          "output_type": "display_data",
          "data": {
            "text/plain": [
              "<Figure size 640x480 with 1 Axes>"
            ],
            "image/png": "[encoded data removed]"
          },
          "metadata": {}
        }
      ]
    }
  ]
}